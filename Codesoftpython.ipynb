{
  "cells": [
    {
      "cell_type": "markdown",
      "metadata": {
        "id": "view-in-github",
        "colab_type": "text"
      },
      "source": [
        "<a href=\"https://colab.research.google.com/github/Bhoomika-Hacker/Bhoomika-Hacker/blob/main/Codesoftpython.ipynb\" target=\"_parent\"><img src=\"https://colab.research.google.com/assets/colab-badge.svg\" alt=\"Open In Colab\"/></a>"
      ]
    },
    {
      "cell_type": "markdown",
      "metadata": {
        "id": "sJ6f7y-jGayi"
      },
      "source": [
        "#TASK-1"
      ]
    },
    {
      "cell_type": "markdown",
      "metadata": {
        "id": "zLY2Vrv4f7qY"
      },
      "source": [
        "#**Python**-programming-in-TO-DO-LIST\n",
        "\n",
        "\n",
        "---\n",
        "\n",
        "\n"
      ]
    },
    {
      "cell_type": "markdown",
      "metadata": {
        "id": "zPeMT-C-s39T"
      },
      "source": [
        "\n",
        "A To-Do List application is a useful project that helps users manage and organize their tasks efficiently. This project aims to create a command-line or GUI-based application using Python, allowing users to create, update, and track their to-do lists"
      ]
    },
    {
      "cell_type": "markdown",
      "metadata": {
        "id": "IWmxyMV0Gq39"
      },
      "source": [
        "#TASK-2"
      ]
    },
    {
      "cell_type": "markdown",
      "metadata": {
        "id": "ijEgs3cgG1vF"
      },
      "source": [
        "#**Python**-programming_in_Calculation\n",
        "\n",
        "\n",
        "---"
      ]
    },
    {
      "cell_type": "markdown",
      "metadata": {
        "id": "9V9yGn8wHN36"
      },
      "source": [
        "#***CALCULATOR***\n",
        "\n",
        "---\n",
        "\n"
      ]
    },
    {
      "cell_type": "markdown",
      "metadata": {
        "id": "QK936VV0HE88"
      },
      "source": [
        "Design a simple calculator with basic arithmetic operations.\n",
        "Prompt the user to input two numbers and an operation choice.\n",
        "\n",
        "Perform the calculation and display the result."
      ]
    },
    {
      "source": [
        "# This function adds two numbers\n",
        "def add(x, y):\n",
        "    return x + y\n",
        "\n",
        "# This function subtracts two numbers\n",
        "def subtract(x, y):\n",
        "    return x - y\n",
        "\n",
        "# This function multiplies two numbers\n",
        "def multiply(x, y):\n",
        "    return x * y\n",
        "\n",
        "# This function divides two numbers\n",
        "def divide(x, y):\n",
        "    if y != 0:\n",
        "        return x / y\n",
        "    else:\n",
        "        return \"Error! Division by zero.\"\n",
        "\n",
        "# This function find remainder of two number\n",
        "def Modulus(x, y):\n",
        "    if y != 0:\n",
        "        return x % y  # Use modulo operator '%' for remainder\n",
        "    else:\n",
        "        return \"Error!\"   # Consistent indentation (4 spaces)\n",
        "\n",
        "print(\"Select operation:\")\n",
        "print(\"1. Add\")\n",
        "print(\"2. Subtract\")\n",
        "print(\"3. Multiply\")\n",
        "print(\"4. Divide\")\n",
        "print(\"5. Modulus\")\n",
        "\n",
        "while True:\n",
        "    # Take input from the user\n",
        "    choice = input(\"Enter choice(1/2/3/4/5): \")\n",
        "\n",
        "    # Check if choice is one of the four options\n",
        "    if choice in ('1', '2', '3', '4', '5'):\n",
        "        try:\n",
        "            num1 = float(input(\"Enter first number: \"))\n",
        "            num2 = float(input(\"Enter second number: \"))\n",
        "        except ValueError:\n",
        "            print(\"Invalid input. Please enter a number.\")\n",
        "            continue\n",
        "\n",
        "        if choice == '1':\n",
        "            print(f\"{num1} + {num2} = {add(num1, num2)}\")\n",
        "        elif choice == '2':\n",
        "            print(f\"{num1} - {num2} = {subtract(num1, num2)}\")\n",
        "        elif choice == '3':\n",
        "            print(f\"{num1} * {num2} = {multiply(num1, num2)}\")\n",
        "        elif choice == '4':\n",
        "            print(f\"{num1} / {num2} = {divide(num1, num2)}\")\n",
        "        elif choice == '5':\n",
        "            print(f\"{num1} % {num2} = {Modulus(num1, num2)}\")\n",
        "\n",
        "        # Check if user wants another calculation\n",
        "        next_calculation = input(\"Let's do next calculation? (yes/no): \")\n",
        "        if next_calculation.lower() != 'yes':\n",
        "            break\n",
        "    else:\n",
        "        print(\"Invalid Input\")"
      ],
      "cell_type": "code",
      "metadata": {
        "id": "UasU1cr5iO_h"
      },
      "execution_count": null,
      "outputs": []
    },
    {
      "cell_type": "markdown",
      "metadata": {
        "id": "aCKLH36BHckA"
      },
      "source": [
        "#TASK-3\n"
      ]
    },
    {
      "cell_type": "markdown",
      "metadata": {
        "id": "3EhGcuJDHgRn"
      },
      "source": [
        "#**Python**-programming_for_password Generator\n",
        "\n",
        "\n",
        "---"
      ]
    },
    {
      "cell_type": "markdown",
      "metadata": {
        "id": "CNQ6wwooHy8F"
      },
      "source": [
        "#PASSWORD GENERATOR\n",
        "\n",
        "---\n",
        "\n"
      ]
    },
    {
      "cell_type": "markdown",
      "metadata": {
        "id": "Kn3OGJiGICr7"
      },
      "source": [
        "A **password generator** is a useful tool that generates strong and\n",
        "\n",
        "random passwords for users. This project aims to create a\n",
        "password generator application using Python, allowing users to\n",
        "\n",
        "specify the length and complexity of the password.\n",
        "\n",
        "**User Input:** Prompt the user to specify the desired length of the\n",
        "\n",
        "password.\n",
        "\n",
        "**Generate Password:** Use a combination of random characters to\n",
        "\n",
        "generate a password of the specified length.\n",
        "\n",
        "**Display the Password:**  Print the generated password on the screen."
      ]
    },
    {
      "cell_type": "code",
      "source": [
        "import random\n",
        "import string\n",
        "\n",
        "def generate_password(length):\n",
        "    characters = string.ascii_letters + string.digits + string.punctuation\n",
        "    password = ''.join(random.choice(characters) for _ in range(length))\n",
        "    return password\n",
        "\n",
        "# User input for password length\n",
        "password_length = int(input(\"Enter the desired password length: \"))\n",
        "\n",
        "# Generate and display the password\n",
        "generated_password = generate_password(password_length)\n",
        "print(\"Generated Password:\", generated_password)\n"
      ],
      "metadata": {
        "id": "EZSxhA4Lim9o"
      },
      "execution_count": null,
      "outputs": []
    },
    {
      "cell_type": "markdown",
      "source": [
        "#TASK-4"
      ],
      "metadata": {
        "id": "GlxQoEa3mBR4"
      }
    },
    {
      "cell_type": "markdown",
      "source": [
        "#**Python**-programming_for_Rock-Paper-Scissors Game\n",
        "\n",
        "\n",
        "---"
      ],
      "metadata": {
        "id": "5b00Q1nxmMjm"
      }
    },
    {
      "cell_type": "markdown",
      "source": [
        "#**Rock-Paper-Scissors** **Game**\n",
        "\n",
        "---\n",
        "\n"
      ],
      "metadata": {
        "id": "-VFlVLq6mXDI"
      }
    },
    {
      "cell_type": "markdown",
      "source": [
        "**User Input:** Prompt the user to choose rock, paper, or\n",
        "\n",
        "scissors.\n",
        "\n",
        "\n",
        "**Computer Selection:** Generate a random choice (rock,\n",
        "\n",
        " paper, or scissors) for\n",
        "the computer.\n",
        "\n",
        "\n",
        "**Game Logic:** Determine the winner based on the\n",
        "\n",
        " user's choice and the\n",
        "computer's choice.\n",
        "Rock beats scissors,\n",
        "\n",
        " scissors beat paper, and paper beats rock.\n",
        "\n",
        "**Display Result:** Show the user's choice and the computer's choice.\n",
        "\n",
        "Display the result, whether the user wins, loses, or it's a tie.\n",
        "\n",
        "\n",
        "**Score Tracking (Optional):** Keep track of the user's and computer's scores for\n",
        "multiple rounds.\n",
        "\n",
        "\n",
        "**Play Again:** Ask the user if they want to play another round.\n",
        "\n",
        "\n",
        "\n",
        "**User Interface:** Design a user-friendly interface with clear instructions and\n",
        "feedback"
      ],
      "metadata": {
        "id": "KmfmxsZSmjht"
      }
    },
    {
      "cell_type": "code",
      "source": [
        "import random\n",
        "\n",
        "def get_computer_choice():\n",
        "    choices = [\"ROCK\", \"PAPER\", \"SCISSORS\"]\n",
        "    return random.choice(choices)\n",
        "\n",
        "def get_user_choice():\n",
        "    user_choice = input(\"Enter your choice (ROCK, PAPER, SCISSORS): \").upper()\n",
        "    while user_choice not in [\"ROCK\", \"PAPER\", \"SCISSORS\"]:\n",
        "        user_choice = input(\"Invalid choice. Please enter ROCK, PAPER, or SCISSORS: \").upper()\n",
        "    return user_choice\n",
        "\n",
        "def determine_winner(user_choice, computer_choice):\n",
        "    if user_choice == computer_choice:\n",
        "        return \"IT'S A TIE \"\n",
        "    elif (user_choice == \"ROCK\" and computer_choice == \"SCISSORS\") or \\\n",
        "         (user_choice == \"PAPER\" and computer_choice == \"ROCK\") or \\\n",
        "         (user_choice == \"SCISSORS\" and computer_choice == \"PAPER\"):\n",
        "        return \"YOU WIN!\"\n",
        "    else:\n",
        "        return \"YOU LOSE!\"\n",
        "\n",
        "def play_game():\n",
        "    computer_choice = get_computer_choice()\n",
        "    user_choice = get_user_choice()\n",
        "    print(f\"\\nYou chose: {user_choice}\")\n",
        "    print(f\"Computer chose: {computer_choice}\")\n",
        "    print(determine_winner(user_choice, computer_choice))\n",
        "\n",
        "if __name__ == \"__main__\":\n",
        "        play_game()\n"
      ],
      "metadata": {
        "id": "PitjVh_KqvWF"
      },
      "execution_count": null,
      "outputs": []
    },
    {
      "cell_type": "markdown",
      "source": [
        "#TASK-5"
      ],
      "metadata": {
        "id": "SlI6LAOv4Bqt"
      }
    },
    {
      "cell_type": "markdown",
      "source": [
        "#**Python**-programming_for_Contact Book\n",
        "\n",
        "\n",
        "---"
      ],
      "metadata": {
        "id": "60yUyN8km1_I"
      }
    },
    {
      "cell_type": "markdown",
      "source": [
        "#**Contact Book**\n",
        "\n",
        "---\n",
        "\n",
        "\n",
        "\n",
        "\n"
      ],
      "metadata": {
        "id": "2QLuD2kknbwp"
      }
    },
    {
      "cell_type": "markdown",
      "source": [
        "**Contact Information:** Store name, phone number, email, and address for each contact.\n",
        "\n",
        "\n",
        "**Add Contact:** Allow users to add new contacts with their details.\n",
        "View Contact List: Display a list of all saved contacts with names and phone numbers.\n",
        "\n",
        "\n",
        "**Search Contact:** Implement a search function to find contacts by name or phone number.\n",
        "\n",
        "\n",
        "**Update Contact:** Enable users to update contact details.\n",
        "\n",
        "\n",
        "**Delete Contact:** Provide an option to delete a contact.\n",
        "\n",
        "\n",
        "**User Interface:** Design a user-friendly interface for easy interaction."
      ],
      "metadata": {
        "id": "mJZ87QJBnuOJ"
      }
    },
    {
      "cell_type": "code",
      "source": [
        "import json\n",
        "\n",
        "# Define a class to hold contact details\n",
        "class Contact:\n",
        "    def __init__(self, name, phone, email):\n",
        "        self.name = name\n",
        "        self.phone = phone\n",
        "        self.email = email\n",
        "\n",
        "    def __str__(self):\n",
        "        return f\"Name: {self.name}, Phone: {self.phone}, Email: {self.email}\"\n",
        "\n",
        "# Create a dictionary to store contacts with name as key\n",
        "contact_dict = {}\n",
        "\n",
        "# Function to add a new contact\n",
        "def add_contact(name, phone, email):\n",
        "    if name in contact_dict:\n",
        "        print(f\"Contact with name {name} already exists.\")\n",
        "        return\n",
        "    contact_dict[name] = Contact(name, phone, email)\n",
        "    print(f\"Contact {name} added.\")\n",
        "\n",
        "# Function to display all contacts\n",
        "def display_contacts():\n",
        "    for contact in contact_dict.values():\n",
        "        print(contact)\n",
        "\n",
        "# Function to search for a contact\n",
        "def search_contact(name):\n",
        "    if name in contact_dict:\n",
        "        print(contact_dict[name])\n",
        "    else:\n",
        "        print(\"Contact not found.\")\n",
        "\n",
        "# Function to update a contact\n",
        "def update_contact(name, phone=None, email=None):\n",
        "    if name not in contact_dict:\n",
        "        print(\"Contact not found.\")\n",
        "        return\n",
        "    if phone:\n",
        "        contact_dict[name].phone = phone\n",
        "    if email:\n",
        "        contact_dict[name].email = email\n",
        "    print(f\"Contact {name} updated.\")\n",
        "\n",
        "# Function to delete a contact\n",
        "def delete_contact(name):\n",
        "    if name in contact_dict:\n",
        "        del contact_dict[name]\n",
        "        print(f\"Contact {name} deleted.\")\n",
        "    else:\n",
        "        print(\"Contact not found.\")\n",
        "\n",
        "# Function to save contacts to a file\n",
        "def save_contacts(filename='contacts.json'):\n",
        "    with open(filename, 'w') as file:\n",
        "        json.dump({name: contact.__dict__ for name, contact in contact_dict.items()}, file)\n",
        "    print(f\"Contacts saved to {filename}\")\n",
        "\n",
        "# Function to load contacts from a file\n",
        "def load_contacts(filename='contacts.json'):\n",
        "    try:\n",
        "        with open(filename, 'r') as file:\n",
        "            contacts = json.load(file)\n",
        "            for name, contact in contacts.items():\n",
        "                contact_dict[name] = Contact(**contact)\n",
        "        print(f\"Contacts loaded from {filename}\")\n",
        "    except FileNotFoundError:\n",
        "        print(f\"No contacts file found. Starting with an empty contact book.\")\n",
        "\n",
        "# Example usage\n",
        "load_contacts()  # Load contacts if file exists\n",
        "add_contact('Alice', '123-456-7890', 'alice@example.com')\n",
        "add_contact('Bob', '098-765-4321', 'bob@example.com')\n",
        "display_contacts()\n",
        "update_contact('Alice', email='alice@newdomain.com')\n",
        "delete_contact('Bob')\n",
        "save_contacts()  # Save contacts to file\n"
      ],
      "metadata": {
        "colab": {
          "base_uri": "https://localhost:8080/"
        },
        "id": "0WLilxF9i9Gb",
        "outputId": "700d14fe-f158-4525-8791-55bfe517ad13"
      },
      "execution_count": null,
      "outputs": [
        {
          "output_type": "stream",
          "name": "stdout",
          "text": [
            "No contacts file found. Starting with an empty contact book.\n",
            "Contact Alice added.\n",
            "Contact Bob added.\n",
            "Name: Alice, Phone: 123-456-7890, Email: alice@example.com\n",
            "Name: Bob, Phone: 098-765-4321, Email: bob@example.com\n",
            "Contact Alice updated.\n",
            "Contact Bob deleted.\n",
            "Contacts saved to contacts.json\n"
          ]
        }
      ]
    }
  ],
  "metadata": {
    "colab": {
      "provenance": [],
      "authorship_tag": "ABX9TyOZBXaPNlSRWjR13s5q+kFB",
      "include_colab_link": true
    },
    "kernelspec": {
      "display_name": "Python 3",
      "name": "python3"
    },
    "language_info": {
      "name": "python"
    }
  },
  "nbformat": 4,
  "nbformat_minor": 0
}